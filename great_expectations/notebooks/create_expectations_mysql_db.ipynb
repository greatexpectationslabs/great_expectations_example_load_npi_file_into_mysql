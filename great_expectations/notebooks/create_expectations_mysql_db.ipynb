{
 "cells": [
  {
   "cell_type": "code",
   "execution_count": 10,
   "metadata": {},
   "outputs": [],
   "source": [
    "import json\n",
    "import os\n",
    "import great_expectations as ge\n",
    "import great_expectations.jupyter_ux\n",
    "import pandas as pd\n",
    "from great_expectations.datasource.types import BatchKwargs"
   ]
  },
  {
   "cell_type": "markdown",
   "metadata": {},
   "source": [
    "# Author Expectations\n",
    "\n"
   ]
  },
  {
   "cell_type": "markdown",
   "metadata": {},
   "source": [
    "[**Watch a short tutorial video**](https://docs.greatexpectations.io/en/latest/getting_started/create_expectations.html?utm_source=notebook&utm_medium=create_expectations#video)\n",
    "\n",
    "[**Read more in the tutorial**](https://docs.greatexpectations.io/en/latest/getting_started/create_expectations.html?utm_source=notebook&utm_medium=create_expectations)\n",
    "\n",
    "**Reach out for help on** [**Great Expectations Slack**](https://greatexpectations.io/slack)\n"
   ]
  },
  {
   "cell_type": "markdown",
   "metadata": {},
   "source": [
    "### Get a DataContext object\n",
    "[Read more in the tutorial](https://great-expectations.readthedocs.io/en/latest/getting_started/create_expectations.html?utm_source=notebook&utm_medium=create_expectations#get-datacontext-object)\n",
    "\n",
    "\n"
   ]
  },
  {
   "cell_type": "code",
   "execution_count": 11,
   "metadata": {},
   "outputs": [],
   "source": [
    "context = ge.data_context.DataContext()"
   ]
  },
  {
   "cell_type": "markdown",
   "metadata": {},
   "source": [
    "### List data assets in your project\n",
    "\n",
    "[Read more in the tutorial](https://docs.greatexpectations.io/en/latest/getting_started/create_expectations.html?utm_source=notebook&utm_medium=create_expectations#data-assets)\n"
   ]
  },
  {
   "cell_type": "code",
   "execution_count": 12,
   "metadata": {},
   "outputs": [
    {
     "name": "stdout",
     "output_type": "stream",
     "text": [
      "data_source: npi_data__dir (PandasDatasource)\n",
      "  generator_name: default (SubdirReaderGenerator)\n",
      "    generator_asset: npi_files\n",
      "      expectation suite: warning\n",
      "data_source: mysql_db (SqlAlchemyDatasource)\n",
      "  generator_name: default (TableGenerator)\n",
      "    generator_asset: npi_import_raw\n",
      "      expectation suite: warning\n"
     ]
    }
   ],
   "source": [
    "great_expectations.jupyter_ux.list_available_data_asset_names(context)"
   ]
  },
  {
   "cell_type": "markdown",
   "metadata": {},
   "source": [
    "### Set the name of the data asset you want to create expectations about and the name of the expectation suite to put these expectations in\n",
    "\n",
    "We recommend to name your first expectation suite for a data asset \"warning\". Later, as you identify some of the expectations that you add to this suite as critical, you can move these expectations into another suite and call it \"failure\". "
   ]
  },
  {
   "cell_type": "code",
   "execution_count": 13,
   "metadata": {},
   "outputs": [],
   "source": [
    "data_asset_name = \"mysql_db/default/npi_import_raw\" # TODO: replace with your value!\n",
    "expectation_suite_name = \"warning\" # TODO: replace with your value!"
   ]
  },
  {
   "cell_type": "markdown",
   "metadata": {},
   "source": [
    "### Create the expectation suite\n",
    "\n"
   ]
  },
  {
   "cell_type": "code",
   "execution_count": 14,
   "metadata": {},
   "outputs": [
    {
     "data": {
      "text/plain": [
       "{'data_asset_name': 'mysql_db/default/npi_import_raw',\n",
       " 'expectation_suite_name': 'warning',\n",
       " 'meta': {'great_expectations.__version__': '0.8.0a3+0.g48d38d56.dirty'},\n",
       " 'expectations': []}"
      ]
     },
     "execution_count": 14,
     "metadata": {},
     "output_type": "execute_result"
    }
   ],
   "source": [
    "context.create_expectation_suite(data_asset_name=data_asset_name, \n",
    "                                 expectation_suite_name=expectation_suite_name,\n",
    "                                overwrite_existing=True)"
   ]
  },
  {
   "cell_type": "markdown",
   "metadata": {},
   "source": [
    "### Load a batch of data from the data asset you want to validate\n",
    "\n",
    "Learn about `get_batch` in [this tutorial](https://docs.greatexpectations.io/en/latest/getting_started/create_expectations.html?utm_source=notebook&utm_medium=create_expectations#get-batch)\n",
    "\n",
    "__Quick Guide:__\n",
    "\n",
    "##### If you want to validate data in Pandas Dataframes or in Spark Dataframes:\n",
    "\n",
    "* A. If GE listed and profiled your files correctly:\n",
    "\n",
    "```\n",
    "data_asset_name = CHOOSE FROM THE LIST ABOVE\n",
    "batch = context.get_batch(data_asset_name, \n",
    "                          expectation_suite_name,\n",
    "                          context.yield_batch_kwargs(data_asset_name))\n",
    "```\n",
    "* B. Otherwise (you want to control the logic of reading the data):\n",
    "\n",
    "```\n",
    "df = load the data into a dataframe, e.g., df = SparkDFDataset(spark.read.csv... or pd.read_csv(...\n",
    "data_asset_name = COME UP WITH A NAME - THIS WILL CREATE A NEW DATA ASSET.\n",
    "batch = context.get_batch(data_asset_name, \n",
    "                          expectation_suite_name, \n",
    "                          df)\n",
    "```\n",
    "\n",
    "\n",
    "##### If you want to validate data in a database:\n",
    "\n",
    "* A. To validate an existing table:\n",
    "\n",
    "```\n",
    "data_asset_name = 'CHOOSE THE NAME OF YOUR TABLE FROM THE LIST OF DATA ASSETS ABOVE'\n",
    "batch = context.get_batch(data_asset_name, \n",
    "                        expectation_suite_name='my_suite'\n",
    "                        BatchKwargs(table=data_asset_name)) \n",
    "```\n",
    "\n",
    "* B. To validate a query result set:\n",
    "\n",
    "```\n",
    "data_asset_name = 'NAME YOUR QUERY (E.G., daily_users_query) - THIS WILL CREATE A NEW DATA ASSET'\n",
    "batch = context.get_batch(data_asset_name, \n",
    "                        expectation_suite_name='my_suite',\n",
    "                        BatchKwargs(query='SQL FOR YOUR QUERY'))\n",
    "```\n",
    "\n",
    "\n",
    "\n"
   ]
  },
  {
   "cell_type": "code",
   "execution_count": 15,
   "metadata": {},
   "outputs": [],
   "source": [
    "# COPY THE APPROPRIATE CODE SNIPPET FROM THE CELL ABOVE\n",
    "batch = context.get_batch(data_asset_name, \n",
    "                          expectation_suite_name,\n",
    "                          BatchKwargs(table=\"npi_import_raw\")\n",
    "#                           context.yield_batch_kwargs(data_asset_name)\n",
    "                         )\n",
    "# batch.head()"
   ]
  },
  {
   "cell_type": "markdown",
   "metadata": {},
   "source": [
    "#### Optionally, customize options used to read your data (e.g., separators, header, etc) by setting reader options in `get_batch`\n",
    "\n",
    "[Read more in the tutorial](https://docs.greatexpectations.io/en/latest/getting_started/create_expectations.html?utm_source=notebook&utm_medium=create_expectations#reader-options)\n",
    "\n"
   ]
  },
  {
   "cell_type": "code",
   "execution_count": 16,
   "metadata": {},
   "outputs": [
    {
     "data": {
      "text/plain": [
       "{'table': 'npi_import_raw'}"
      ]
     },
     "execution_count": 16,
     "metadata": {},
     "output_type": "execute_result"
    }
   ],
   "source": [
    "# this is how you can see which data batch was loaded\n",
    "batch._batch_kwargs"
   ]
  },
  {
   "cell_type": "markdown",
   "metadata": {},
   "source": [
    "## Author Expectations\n",
    "\n",
    "[Read more in the tutorial](https://docs.greatexpectations.io/en/latest/getting_started/create_expectations.html?utm_source=notebook&utm_medium=create_expectations#create-expectations)\n",
    "\n",
    "See available expectations in the [expectation glossary](https://docs.greatexpectations.io/en/latest/glossary.html?utm_source=notebook&utm_medium=create_expectations)\n"
   ]
  },
  {
   "cell_type": "code",
   "execution_count": 17,
   "metadata": {},
   "outputs": [
    {
     "data": {
      "text/plain": [
       "{'success': False, 'result': {'observed_value': 0}}"
      ]
     },
     "execution_count": 17,
     "metadata": {},
     "output_type": "execute_result"
    }
   ],
   "source": [
    "#example:\n",
    "\n",
    "eval_param_key = \"urn:great_expectations:validations:npi_data__dir/default/npi_files:warning:expectations:expect_table_row_count_to_be_between:result:observed_value\"\n",
    "batch.expect_table_row_count_to_equal(\n",
    "    value = {\"$PARAMETER\": eval_param_key,\n",
    "            \"$PARAMETER.\"+eval_param_key: 1},\n",
    ")"
   ]
  },
  {
   "cell_type": "code",
   "execution_count": 18,
   "metadata": {},
   "outputs": [],
   "source": [
    "# add more expectations here\n"
   ]
  },
  {
   "cell_type": "code",
   "execution_count": 19,
   "metadata": {},
   "outputs": [],
   "source": [
    "# add more expectations here\n"
   ]
  },
  {
   "cell_type": "code",
   "execution_count": 20,
   "metadata": {},
   "outputs": [],
   "source": [
    "# add more expectations here\n"
   ]
  },
  {
   "cell_type": "markdown",
   "metadata": {},
   "source": [
    "### Review the expectations\n",
    "\n",
    "Expectations that were true on this data batch were added. To view all the expectations you added so far about this data asset, do:"
   ]
  },
  {
   "cell_type": "code",
   "execution_count": 21,
   "metadata": {},
   "outputs": [
    {
     "name": "stdout",
     "output_type": "stream",
     "text": [
      "2019-10-07T17:17:14-0700 - INFO - \t0 expectation(s) included in expectation_suite. Omitting 1 expectation(s) that failed when last run; set discard_failed_expectations=False to include them.\n"
     ]
    },
    {
     "data": {
      "text/plain": [
       "{'data_asset_name': 'mysql_db/default/npi_import_raw',\n",
       " 'expectation_suite_name': 'warning',\n",
       " 'meta': {'great_expectations.__version__': '0.8.0a3+0.g48d38d56.dirty'},\n",
       " 'expectations': [],\n",
       " 'data_asset_type': 'Dataset'}"
      ]
     },
     "execution_count": 21,
     "metadata": {},
     "output_type": "execute_result"
    }
   ],
   "source": [
    "batch.get_expectation_suite()"
   ]
  },
  {
   "cell_type": "markdown",
   "metadata": {},
   "source": [
    "    \n",
    "    \n",
    "If you decide not to save some expectations that you created, use [remove_expectaton method](https://docs.greatexpectations.io/en/latest/module_docs/data_asset_module.html?highlight=remove_expectation&utm_source=notebook&utm_medium=create_expectations#great_expectations.data_asset.data_asset.DataAsset.remove_expectation)\n",
    "\n",
    "\n",
    "The following call will save the expectation suite as a JSON file in great_expectations/expectations directory of your project:\n",
    "    "
   ]
  },
  {
   "cell_type": "code",
   "execution_count": 22,
   "metadata": {},
   "outputs": [
    {
     "name": "stdout",
     "output_type": "stream",
     "text": [
      "2019-10-07T17:17:14-0700 - INFO - \t1 expectation(s) included in expectation_suite. result_format settings filtered.\n"
     ]
    }
   ],
   "source": [
    "batch.save_expectation_suite(discard_failed_expectations=False)"
   ]
  },
  {
   "cell_type": "markdown",
   "metadata": {},
   "source": [
    "### You created and saved expectations for at least one of the data assets.\n",
    "\n",
    "### We will show you how to set up validation - the process of checking if new files of this type conform to your expectations before they are processed by your pipeline's code. \n",
    "\n",
    "### Go to [integrate_validation_into_pipeline.ipynb](integrate_validation_into_pipeline.ipynb) to proceed.\n",
    "\n",
    "\n"
   ]
  },
  {
   "cell_type": "code",
   "execution_count": null,
   "metadata": {},
   "outputs": [],
   "source": []
  },
  {
   "cell_type": "code",
   "execution_count": null,
   "metadata": {},
   "outputs": [],
   "source": []
  }
 ],
 "metadata": {
  "kernelspec": {
   "display_name": "Python 3",
   "language": "python",
   "name": "python3"
  },
  "language_info": {
   "codemirror_mode": {
    "name": "ipython",
    "version": 3
   },
   "file_extension": ".py",
   "mimetype": "text/x-python",
   "name": "python",
   "nbconvert_exporter": "python",
   "pygments_lexer": "ipython3",
   "version": "3.7.0"
  },
  "pycharm": {
   "stem_cell": {
    "cell_type": "raw",
    "metadata": {
     "collapsed": false
    },
    "source": []
   }
  }
 },
 "nbformat": 4,
 "nbformat_minor": 4
}
